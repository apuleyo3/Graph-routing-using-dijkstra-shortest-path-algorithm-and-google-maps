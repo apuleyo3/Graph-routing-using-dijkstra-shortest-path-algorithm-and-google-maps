{
  "nbformat": 4,
  "nbformat_minor": 0,
  "metadata": {
    "colab": {
      "name": "trace_covid_mx.ipynb",
      "provenance": [],
      "authorship_tag": "ABX9TyMPj1Asj++YWfHLFt+BO8Ao",
      "include_colab_link": true
    },
    "kernelspec": {
      "name": "python3",
      "display_name": "Python 3"
    }
  },
  "cells": [
    {
      "cell_type": "markdown",
      "metadata": {
        "id": "view-in-github",
        "colab_type": "text"
      },
      "source": [
        "<a href=\"https://colab.research.google.com/github/apuleyo3/Graph-routing-using-dijkstra-shortest-path-algorithm-and-google-maps/blob/master/trace_covid_mx.ipynb\" target=\"_parent\"><img src=\"https://colab.research.google.com/assets/colab-badge.svg\" alt=\"Open In Colab\"/></a>"
      ]
    },
    {
      "cell_type": "markdown",
      "metadata": {
        "id": "B7JfSMgFtcbZ",
        "colab_type": "text"
      },
      "source": [
        "# Relating low schooling and poverty index with an increase in COVID-19 infections in certain areas of Mexico"
      ]
    },
    {
      "cell_type": "markdown",
      "metadata": {
        "id": "fiYR1lcNtkiC",
        "colab_type": "text"
      },
      "source": [
        "Some late evidence in Mexico seem to point out that people with low scholarship and in some cases in poverty is more likely to catch COVID-19 in Mexico. By now is an idea that some Universities have studied on COVID-19 deaths, some of them have this profile, but have not extended the study to active patients, that is what this work is trying to relate or find some evidence on that segmeted population."
      ]
    },
    {
      "cell_type": "markdown",
      "metadata": {
        "id": "p1v0K0BOuoni",
        "colab_type": "text"
      },
      "source": [
        "## How is this a business problem?"
      ]
    },
    {
      "cell_type": "markdown",
      "metadata": {
        "id": "R0UTRECJx14f",
        "colab_type": "text"
      },
      "source": [
        "Mexico is one of the countries that haven't tested it's population for COVID-19, the strategy is to detect cases when they arrive to hospital and are tested based on their symptoms, but we have scarcely tested people randomly. The strategy for re opening business and stores around Mexico City is just to do it based on the needs of the economy, no scientific study have been presented by the city authorities on the time and places that are better to re open commercial or/and office activities. "
      ]
    },
    {
      "cell_type": "markdown",
      "metadata": {
        "id": "5xR9jZoT-Kzi",
        "colab_type": "text"
      },
      "source": [
        "## Methodology"
      ]
    },
    {
      "cell_type": "markdown",
      "metadata": {
        "id": "nBjasui--NVa",
        "colab_type": "text"
      },
      "source": [
        "My first approach is to relate low scholarship and/or high poverty index with high levels of contagion in some regions of Mexico, then I will put it to test in Mexico City districts and explain the different economic, residencial and industrial zones of the city. "
      ]
    },
    {
      "cell_type": "markdown",
      "metadata": {
        "id": "IWGs9R6d0wWH",
        "colab_type": "text"
      },
      "source": [
        "## Datasets"
      ]
    },
    {
      "cell_type": "markdown",
      "metadata": {
        "id": "qned4Aem1nos",
        "colab_type": "text"
      },
      "source": [
        "\n",
        "*   Open data by the mexican of COVID patients profile government: [SINAVE](https://datos.cdmx.gob.mx/explore/dataset/base-covid-sinave/information/)\n",
        "*   Census estimates for population: [INEGI](https://www.inegi.org.mx/programas/intercensal/2015/)\n",
        "*   Poverty index by mexican government: [CONAPO](http://www.conapo.gob.mx/es/CONAPO/Datos_Abiertos_del_Indice_de_Marginacion)\n",
        "*   Tourist by state mexican government: [SECTUR](http://www.datatur.sectur.gob.mx/SitePages/InfTurxEdo.aspx)\n",
        "*   FOURSQUARE API for listing business\n",
        "\n"
      ]
    }
  ]
}